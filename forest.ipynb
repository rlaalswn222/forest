{
  "nbformat": 4,
  "nbformat_minor": 0,
  "metadata": {
    "colab": {
      "provenance": [],
      "authorship_tag": "ABX9TyMSlxMS6ZXC/GkdxOXuwMxZ",
      "include_colab_link": true
    },
    "kernelspec": {
      "name": "python3",
      "display_name": "Python 3"
    },
    "language_info": {
      "name": "python"
    }
  },
  "cells": [
    {
      "cell_type": "markdown",
      "metadata": {
        "id": "view-in-github",
        "colab_type": "text"
      },
      "source": [
        "<a href=\"https://colab.research.google.com/github/rlaalswn222/forest/blob/main/forest.ipynb\" target=\"_parent\"><img src=\"https://colab.research.google.com/assets/colab-badge.svg\" alt=\"Open In Colab\"/></a>"
      ]
    },
    {
      "cell_type": "code",
      "source": [
        "from google.colab import drive\n",
        "drive.mount('/content/drive')"
      ],
      "metadata": {
        "colab": {
          "base_uri": "https://localhost:8080/"
        },
        "id": "I_4rhXobgpkI",
        "outputId": "bea67845-a111-4438-b783-838da53e815c"
      },
      "execution_count": null,
      "outputs": [
        {
          "output_type": "stream",
          "name": "stdout",
          "text": [
            "Drive already mounted at /content/drive; to attempt to forcibly remount, call drive.mount(\"/content/drive\", force_remount=True).\n"
          ]
        }
      ]
    },
    {
      "cell_type": "code",
      "execution_count": null,
      "metadata": {
        "colab": {
          "base_uri": "https://localhost:8080/"
        },
        "id": "Zsjs33axgGND",
        "outputId": "61c41ca1-0c78-4874-a6a8-5a411e6a2db4"
      },
      "outputs": [
        {
          "output_type": "stream",
          "name": "stderr",
          "text": [
            "<ipython-input-2-bf3bccb44f3c>:7: DtypeWarning: Columns (0) have mixed types. Specify dtype option on import or set low_memory=False.\n",
            "  data_2016 = pd.read_csv('/content/drive/MyDrive/forest/병해충발생정보관리_2016.csv', encoding='cp949')\n",
            "<ipython-input-2-bf3bccb44f3c>:8: DtypeWarning: Columns (0) have mixed types. Specify dtype option on import or set low_memory=False.\n",
            "  data_2017 = pd.read_csv('/content/drive/MyDrive/forest/병해충발생정보관리_2017.csv', encoding='cp949')\n",
            "<ipython-input-2-bf3bccb44f3c>:9: DtypeWarning: Columns (0) have mixed types. Specify dtype option on import or set low_memory=False.\n",
            "  data_2018 = pd.read_csv('/content/drive/MyDrive/forest/병해충발생정보관리_2018.csv', encoding='cp949')\n",
            "<ipython-input-2-bf3bccb44f3c>:10: DtypeWarning: Columns (0) have mixed types. Specify dtype option on import or set low_memory=False.\n",
            "  data_2019 = pd.read_csv('/content/drive/MyDrive/forest/병해충발생정보관리_2019.csv', encoding='cp949')\n",
            "<ipython-input-2-bf3bccb44f3c>:11: DtypeWarning: Columns (0) have mixed types. Specify dtype option on import or set low_memory=False.\n",
            "  data_2020 = pd.read_csv('/content/drive/MyDrive/forest/병해충발생정보관리_2020.csv', encoding='cp949')\n",
            "<ipython-input-2-bf3bccb44f3c>:12: DtypeWarning: Columns (0) have mixed types. Specify dtype option on import or set low_memory=False.\n",
            "  data_2021 = pd.read_csv('/content/drive/MyDrive/forest/병해충발생정보관리_2021.csv', encoding='cp949')\n",
            "<ipython-input-2-bf3bccb44f3c>:13: DtypeWarning: Columns (0) have mixed types. Specify dtype option on import or set low_memory=False.\n",
            "  data_2022 = pd.read_csv('/content/drive/MyDrive/forest/병해충발생정보관리_2022.csv', encoding='cp949')\n",
            "<ipython-input-2-bf3bccb44f3c>:14: DtypeWarning: Columns (0) have mixed types. Specify dtype option on import or set low_memory=False.\n",
            "  data_2023 = pd.read_csv('/content/drive/MyDrive/forest/병해충발생정보관리_2023.csv', encoding='cp949')\n"
          ]
        }
      ],
      "source": [
        "import numpy as np\n",
        "import pandas as pd\n",
        "import matplotlib.pyplot as plt\n",
        "import seaborn as sns\n",
        "from matplotlib import font_manager, rc\n",
        "\n",
        "data_2016 = pd.read_csv('/content/drive/MyDrive/forest/병해충발생정보관리_2016.csv', encoding='cp949')\n",
        "data_2017 = pd.read_csv('/content/drive/MyDrive/forest/병해충발생정보관리_2017.csv', encoding='cp949')\n",
        "data_2018 = pd.read_csv('/content/drive/MyDrive/forest/병해충발생정보관리_2018.csv', encoding='cp949')\n",
        "data_2019 = pd.read_csv('/content/drive/MyDrive/forest/병해충발생정보관리_2019.csv', encoding='cp949')\n",
        "data_2020 = pd.read_csv('/content/drive/MyDrive/forest/병해충발생정보관리_2020.csv', encoding='cp949')\n",
        "data_2021 = pd.read_csv('/content/drive/MyDrive/forest/병해충발생정보관리_2021.csv', encoding='cp949')\n",
        "data_2022 = pd.read_csv('/content/drive/MyDrive/forest/병해충발생정보관리_2022.csv', encoding='cp949')\n",
        "data_2023 = pd.read_csv('/content/drive/MyDrive/forest/병해충발생정보관리_2023.csv', encoding='cp949')"
      ]
    },
    {
      "cell_type": "code",
      "source": [
        "data_2016.head()"
      ],
      "metadata": {
        "colab": {
          "base_uri": "https://localhost:8080/",
          "height": 206
        },
        "id": "BmtXQSCKmh8G",
        "outputId": "a446a1ab-a3d5-4926-854a-42b8de4a8ce4"
      },
      "execution_count": null,
      "outputs": [
        {
          "output_type": "execute_result",
          "data": {
            "text/plain": [
              "  발생관리기관코드   지역X좌표   지역Y좌표      국가지점번호        토지관리번호(PNU코드)  발생경급수치  고사목구분  \\\n",
              "0  5420000  324004  274227  라라78357385  4882040000000000000      38  피해고사목   \n",
              "1  5420000  324014  274232  라라78367385  4882040000000000000      36  피해고사목   \n",
              "2  5420000  324051  274272  라라78407389  4882040000000000000      30  피해고사목   \n",
              "3  5420000  323980  274182  라라78337380  4882040000000000000      28  피해고사목   \n",
              "4  5420000  323994  274182  라라78347380  4882040000000000000      36  피해고사목   \n",
              "\n",
              "  감염목구분        조사일자 방제완료여부  \n",
              "0   감염목  2016-01-05     완료  \n",
              "1   감염목  2016-01-05     완료  \n",
              "2   감염목  2016-01-05     완료  \n",
              "3   감염목  2016-01-05     완료  \n",
              "4   감염목  2016-01-05     완료  "
            ],
            "text/html": [
              "\n",
              "  <div id=\"df-b411fa1b-b28c-4ae0-9240-6808fbaf0e5a\" class=\"colab-df-container\">\n",
              "    <div>\n",
              "<style scoped>\n",
              "    .dataframe tbody tr th:only-of-type {\n",
              "        vertical-align: middle;\n",
              "    }\n",
              "\n",
              "    .dataframe tbody tr th {\n",
              "        vertical-align: top;\n",
              "    }\n",
              "\n",
              "    .dataframe thead th {\n",
              "        text-align: right;\n",
              "    }\n",
              "</style>\n",
              "<table border=\"1\" class=\"dataframe\">\n",
              "  <thead>\n",
              "    <tr style=\"text-align: right;\">\n",
              "      <th></th>\n",
              "      <th>발생관리기관코드</th>\n",
              "      <th>지역X좌표</th>\n",
              "      <th>지역Y좌표</th>\n",
              "      <th>국가지점번호</th>\n",
              "      <th>토지관리번호(PNU코드)</th>\n",
              "      <th>발생경급수치</th>\n",
              "      <th>고사목구분</th>\n",
              "      <th>감염목구분</th>\n",
              "      <th>조사일자</th>\n",
              "      <th>방제완료여부</th>\n",
              "    </tr>\n",
              "  </thead>\n",
              "  <tbody>\n",
              "    <tr>\n",
              "      <th>0</th>\n",
              "      <td>5420000</td>\n",
              "      <td>324004</td>\n",
              "      <td>274227</td>\n",
              "      <td>라라78357385</td>\n",
              "      <td>4882040000000000000</td>\n",
              "      <td>38</td>\n",
              "      <td>피해고사목</td>\n",
              "      <td>감염목</td>\n",
              "      <td>2016-01-05</td>\n",
              "      <td>완료</td>\n",
              "    </tr>\n",
              "    <tr>\n",
              "      <th>1</th>\n",
              "      <td>5420000</td>\n",
              "      <td>324014</td>\n",
              "      <td>274232</td>\n",
              "      <td>라라78367385</td>\n",
              "      <td>4882040000000000000</td>\n",
              "      <td>36</td>\n",
              "      <td>피해고사목</td>\n",
              "      <td>감염목</td>\n",
              "      <td>2016-01-05</td>\n",
              "      <td>완료</td>\n",
              "    </tr>\n",
              "    <tr>\n",
              "      <th>2</th>\n",
              "      <td>5420000</td>\n",
              "      <td>324051</td>\n",
              "      <td>274272</td>\n",
              "      <td>라라78407389</td>\n",
              "      <td>4882040000000000000</td>\n",
              "      <td>30</td>\n",
              "      <td>피해고사목</td>\n",
              "      <td>감염목</td>\n",
              "      <td>2016-01-05</td>\n",
              "      <td>완료</td>\n",
              "    </tr>\n",
              "    <tr>\n",
              "      <th>3</th>\n",
              "      <td>5420000</td>\n",
              "      <td>323980</td>\n",
              "      <td>274182</td>\n",
              "      <td>라라78337380</td>\n",
              "      <td>4882040000000000000</td>\n",
              "      <td>28</td>\n",
              "      <td>피해고사목</td>\n",
              "      <td>감염목</td>\n",
              "      <td>2016-01-05</td>\n",
              "      <td>완료</td>\n",
              "    </tr>\n",
              "    <tr>\n",
              "      <th>4</th>\n",
              "      <td>5420000</td>\n",
              "      <td>323994</td>\n",
              "      <td>274182</td>\n",
              "      <td>라라78347380</td>\n",
              "      <td>4882040000000000000</td>\n",
              "      <td>36</td>\n",
              "      <td>피해고사목</td>\n",
              "      <td>감염목</td>\n",
              "      <td>2016-01-05</td>\n",
              "      <td>완료</td>\n",
              "    </tr>\n",
              "  </tbody>\n",
              "</table>\n",
              "</div>\n",
              "    <div class=\"colab-df-buttons\">\n",
              "\n",
              "  <div class=\"colab-df-container\">\n",
              "    <button class=\"colab-df-convert\" onclick=\"convertToInteractive('df-b411fa1b-b28c-4ae0-9240-6808fbaf0e5a')\"\n",
              "            title=\"Convert this dataframe to an interactive table.\"\n",
              "            style=\"display:none;\">\n",
              "\n",
              "  <svg xmlns=\"http://www.w3.org/2000/svg\" height=\"24px\" viewBox=\"0 -960 960 960\">\n",
              "    <path d=\"M120-120v-720h720v720H120Zm60-500h600v-160H180v160Zm220 220h160v-160H400v160Zm0 220h160v-160H400v160ZM180-400h160v-160H180v160Zm440 0h160v-160H620v160ZM180-180h160v-160H180v160Zm440 0h160v-160H620v160Z\"/>\n",
              "  </svg>\n",
              "    </button>\n",
              "\n",
              "  <style>\n",
              "    .colab-df-container {\n",
              "      display:flex;\n",
              "      gap: 12px;\n",
              "    }\n",
              "\n",
              "    .colab-df-convert {\n",
              "      background-color: #E8F0FE;\n",
              "      border: none;\n",
              "      border-radius: 50%;\n",
              "      cursor: pointer;\n",
              "      display: none;\n",
              "      fill: #1967D2;\n",
              "      height: 32px;\n",
              "      padding: 0 0 0 0;\n",
              "      width: 32px;\n",
              "    }\n",
              "\n",
              "    .colab-df-convert:hover {\n",
              "      background-color: #E2EBFA;\n",
              "      box-shadow: 0px 1px 2px rgba(60, 64, 67, 0.3), 0px 1px 3px 1px rgba(60, 64, 67, 0.15);\n",
              "      fill: #174EA6;\n",
              "    }\n",
              "\n",
              "    .colab-df-buttons div {\n",
              "      margin-bottom: 4px;\n",
              "    }\n",
              "\n",
              "    [theme=dark] .colab-df-convert {\n",
              "      background-color: #3B4455;\n",
              "      fill: #D2E3FC;\n",
              "    }\n",
              "\n",
              "    [theme=dark] .colab-df-convert:hover {\n",
              "      background-color: #434B5C;\n",
              "      box-shadow: 0px 1px 3px 1px rgba(0, 0, 0, 0.15);\n",
              "      filter: drop-shadow(0px 1px 2px rgba(0, 0, 0, 0.3));\n",
              "      fill: #FFFFFF;\n",
              "    }\n",
              "  </style>\n",
              "\n",
              "    <script>\n",
              "      const buttonEl =\n",
              "        document.querySelector('#df-b411fa1b-b28c-4ae0-9240-6808fbaf0e5a button.colab-df-convert');\n",
              "      buttonEl.style.display =\n",
              "        google.colab.kernel.accessAllowed ? 'block' : 'none';\n",
              "\n",
              "      async function convertToInteractive(key) {\n",
              "        const element = document.querySelector('#df-b411fa1b-b28c-4ae0-9240-6808fbaf0e5a');\n",
              "        const dataTable =\n",
              "          await google.colab.kernel.invokeFunction('convertToInteractive',\n",
              "                                                    [key], {});\n",
              "        if (!dataTable) return;\n",
              "\n",
              "        const docLinkHtml = 'Like what you see? Visit the ' +\n",
              "          '<a target=\"_blank\" href=https://colab.research.google.com/notebooks/data_table.ipynb>data table notebook</a>'\n",
              "          + ' to learn more about interactive tables.';\n",
              "        element.innerHTML = '';\n",
              "        dataTable['output_type'] = 'display_data';\n",
              "        await google.colab.output.renderOutput(dataTable, element);\n",
              "        const docLink = document.createElement('div');\n",
              "        docLink.innerHTML = docLinkHtml;\n",
              "        element.appendChild(docLink);\n",
              "      }\n",
              "    </script>\n",
              "  </div>\n",
              "\n",
              "\n",
              "<div id=\"df-cd0dcec8-15ff-487d-b089-2c402cb792a3\">\n",
              "  <button class=\"colab-df-quickchart\" onclick=\"quickchart('df-cd0dcec8-15ff-487d-b089-2c402cb792a3')\"\n",
              "            title=\"Suggest charts\"\n",
              "            style=\"display:none;\">\n",
              "\n",
              "<svg xmlns=\"http://www.w3.org/2000/svg\" height=\"24px\"viewBox=\"0 0 24 24\"\n",
              "     width=\"24px\">\n",
              "    <g>\n",
              "        <path d=\"M19 3H5c-1.1 0-2 .9-2 2v14c0 1.1.9 2 2 2h14c1.1 0 2-.9 2-2V5c0-1.1-.9-2-2-2zM9 17H7v-7h2v7zm4 0h-2V7h2v10zm4 0h-2v-4h2v4z\"/>\n",
              "    </g>\n",
              "</svg>\n",
              "  </button>\n",
              "\n",
              "<style>\n",
              "  .colab-df-quickchart {\n",
              "      --bg-color: #E8F0FE;\n",
              "      --fill-color: #1967D2;\n",
              "      --hover-bg-color: #E2EBFA;\n",
              "      --hover-fill-color: #174EA6;\n",
              "      --disabled-fill-color: #AAA;\n",
              "      --disabled-bg-color: #DDD;\n",
              "  }\n",
              "\n",
              "  [theme=dark] .colab-df-quickchart {\n",
              "      --bg-color: #3B4455;\n",
              "      --fill-color: #D2E3FC;\n",
              "      --hover-bg-color: #434B5C;\n",
              "      --hover-fill-color: #FFFFFF;\n",
              "      --disabled-bg-color: #3B4455;\n",
              "      --disabled-fill-color: #666;\n",
              "  }\n",
              "\n",
              "  .colab-df-quickchart {\n",
              "    background-color: var(--bg-color);\n",
              "    border: none;\n",
              "    border-radius: 50%;\n",
              "    cursor: pointer;\n",
              "    display: none;\n",
              "    fill: var(--fill-color);\n",
              "    height: 32px;\n",
              "    padding: 0;\n",
              "    width: 32px;\n",
              "  }\n",
              "\n",
              "  .colab-df-quickchart:hover {\n",
              "    background-color: var(--hover-bg-color);\n",
              "    box-shadow: 0 1px 2px rgba(60, 64, 67, 0.3), 0 1px 3px 1px rgba(60, 64, 67, 0.15);\n",
              "    fill: var(--button-hover-fill-color);\n",
              "  }\n",
              "\n",
              "  .colab-df-quickchart-complete:disabled,\n",
              "  .colab-df-quickchart-complete:disabled:hover {\n",
              "    background-color: var(--disabled-bg-color);\n",
              "    fill: var(--disabled-fill-color);\n",
              "    box-shadow: none;\n",
              "  }\n",
              "\n",
              "  .colab-df-spinner {\n",
              "    border: 2px solid var(--fill-color);\n",
              "    border-color: transparent;\n",
              "    border-bottom-color: var(--fill-color);\n",
              "    animation:\n",
              "      spin 1s steps(1) infinite;\n",
              "  }\n",
              "\n",
              "  @keyframes spin {\n",
              "    0% {\n",
              "      border-color: transparent;\n",
              "      border-bottom-color: var(--fill-color);\n",
              "      border-left-color: var(--fill-color);\n",
              "    }\n",
              "    20% {\n",
              "      border-color: transparent;\n",
              "      border-left-color: var(--fill-color);\n",
              "      border-top-color: var(--fill-color);\n",
              "    }\n",
              "    30% {\n",
              "      border-color: transparent;\n",
              "      border-left-color: var(--fill-color);\n",
              "      border-top-color: var(--fill-color);\n",
              "      border-right-color: var(--fill-color);\n",
              "    }\n",
              "    40% {\n",
              "      border-color: transparent;\n",
              "      border-right-color: var(--fill-color);\n",
              "      border-top-color: var(--fill-color);\n",
              "    }\n",
              "    60% {\n",
              "      border-color: transparent;\n",
              "      border-right-color: var(--fill-color);\n",
              "    }\n",
              "    80% {\n",
              "      border-color: transparent;\n",
              "      border-right-color: var(--fill-color);\n",
              "      border-bottom-color: var(--fill-color);\n",
              "    }\n",
              "    90% {\n",
              "      border-color: transparent;\n",
              "      border-bottom-color: var(--fill-color);\n",
              "    }\n",
              "  }\n",
              "</style>\n",
              "\n",
              "  <script>\n",
              "    async function quickchart(key) {\n",
              "      const quickchartButtonEl =\n",
              "        document.querySelector('#' + key + ' button');\n",
              "      quickchartButtonEl.disabled = true;  // To prevent multiple clicks.\n",
              "      quickchartButtonEl.classList.add('colab-df-spinner');\n",
              "      try {\n",
              "        const charts = await google.colab.kernel.invokeFunction(\n",
              "            'suggestCharts', [key], {});\n",
              "      } catch (error) {\n",
              "        console.error('Error during call to suggestCharts:', error);\n",
              "      }\n",
              "      quickchartButtonEl.classList.remove('colab-df-spinner');\n",
              "      quickchartButtonEl.classList.add('colab-df-quickchart-complete');\n",
              "    }\n",
              "    (() => {\n",
              "      let quickchartButtonEl =\n",
              "        document.querySelector('#df-cd0dcec8-15ff-487d-b089-2c402cb792a3 button');\n",
              "      quickchartButtonEl.style.display =\n",
              "        google.colab.kernel.accessAllowed ? 'block' : 'none';\n",
              "    })();\n",
              "  </script>\n",
              "</div>\n",
              "\n",
              "    </div>\n",
              "  </div>\n"
            ],
            "application/vnd.google.colaboratory.intrinsic+json": {
              "type": "dataframe",
              "variable_name": "data_2016"
            }
          },
          "metadata": {},
          "execution_count": 3
        }
      ]
    },
    {
      "cell_type": "code",
      "source": [
        "# 감염목구분 요소 확인\n",
        "unique_2016_ox = data_2016['감염목구분'].unique()\n",
        "# 고유 값 출력\n",
        "print(f\"감염목구분 열의 고유 값들 (중복 제거): {unique_2016_ox}\")"
      ],
      "metadata": {
        "colab": {
          "base_uri": "https://localhost:8080/"
        },
        "id": "dlpuF4raC5no",
        "outputId": "7503f93e-74c6-4792-d3cf-1d8016e2f0ec"
      },
      "execution_count": null,
      "outputs": [
        {
          "output_type": "stream",
          "name": "stdout",
          "text": [
            "감염목구분 열의 고유 값들 (중복 제거): ['감염목' '미감염']\n"
          ]
        }
      ]
    },
    {
      "cell_type": "code",
      "source": [
        "# '감염목구분' 열에서 '감염' 값의 비율 계산\n",
        "infection_rat_2016 = data_2016['감염목구분'].value_counts(normalize=True)['감염목'] * 100\n",
        "\n",
        "print(f\"전체 중 감염된 소나무 비율: {infection_rat_2016:.2f}%\")\n"
      ],
      "metadata": {
        "colab": {
          "base_uri": "https://localhost:8080/"
        },
        "id": "e8wBMICNDiBU",
        "outputId": "dc4f902e-267d-4983-d7a5-ffd98a9c532d"
      },
      "execution_count": null,
      "outputs": [
        {
          "output_type": "stream",
          "name": "stdout",
          "text": [
            "전체 중 감염된 소나무 비율: 38.06%\n"
          ]
        }
      ]
    },
    {
      "cell_type": "code",
      "source": [
        "data_2017.head()\n",
        "\n"
      ],
      "metadata": {
        "colab": {
          "base_uri": "https://localhost:8080/",
          "height": 206
        },
        "id": "Z8BBlgi6mjJr",
        "outputId": "01390f9c-6e57-4595-e4d1-3e5b83856fac"
      },
      "execution_count": null,
      "outputs": [
        {
          "output_type": "execute_result",
          "data": {
            "text/plain": [
              "  발생관리기관코드   지역X좌표   지역Y좌표      국가지점번호  토지관리번호(PNU코드)  발생경급수치  고사목구분 감염목구분  \\\n",
              "0  1400457  391799  390248  마마46708946     4711334036      20  피해고사목   감염목   \n",
              "1  1400457  391251  390826  마마46159004     4711334036      28  기타고사목   미감염   \n",
              "2  1400457  390892  390344  마마45798956     4711334036      34  피해고사목   감염목   \n",
              "3  1400457  390904  390338  마마45808955     4711334036      34  피해고사목   감염목   \n",
              "4  1400457  389892  390918  마마44809014     4711334036      18  기타고사목   미감염   \n",
              "\n",
              "         조사일자 방제완료여부  \n",
              "0  2017-01-01     완료  \n",
              "1  2017-01-01     완료  \n",
              "2  2017-01-01     완료  \n",
              "3  2017-01-01     완료  \n",
              "4  2017-01-01     완료  "
            ],
            "text/html": [
              "\n",
              "  <div id=\"df-66556479-0cee-4480-b49d-154549dc16c5\" class=\"colab-df-container\">\n",
              "    <div>\n",
              "<style scoped>\n",
              "    .dataframe tbody tr th:only-of-type {\n",
              "        vertical-align: middle;\n",
              "    }\n",
              "\n",
              "    .dataframe tbody tr th {\n",
              "        vertical-align: top;\n",
              "    }\n",
              "\n",
              "    .dataframe thead th {\n",
              "        text-align: right;\n",
              "    }\n",
              "</style>\n",
              "<table border=\"1\" class=\"dataframe\">\n",
              "  <thead>\n",
              "    <tr style=\"text-align: right;\">\n",
              "      <th></th>\n",
              "      <th>발생관리기관코드</th>\n",
              "      <th>지역X좌표</th>\n",
              "      <th>지역Y좌표</th>\n",
              "      <th>국가지점번호</th>\n",
              "      <th>토지관리번호(PNU코드)</th>\n",
              "      <th>발생경급수치</th>\n",
              "      <th>고사목구분</th>\n",
              "      <th>감염목구분</th>\n",
              "      <th>조사일자</th>\n",
              "      <th>방제완료여부</th>\n",
              "    </tr>\n",
              "  </thead>\n",
              "  <tbody>\n",
              "    <tr>\n",
              "      <th>0</th>\n",
              "      <td>1400457</td>\n",
              "      <td>391799</td>\n",
              "      <td>390248</td>\n",
              "      <td>마마46708946</td>\n",
              "      <td>4711334036</td>\n",
              "      <td>20</td>\n",
              "      <td>피해고사목</td>\n",
              "      <td>감염목</td>\n",
              "      <td>2017-01-01</td>\n",
              "      <td>완료</td>\n",
              "    </tr>\n",
              "    <tr>\n",
              "      <th>1</th>\n",
              "      <td>1400457</td>\n",
              "      <td>391251</td>\n",
              "      <td>390826</td>\n",
              "      <td>마마46159004</td>\n",
              "      <td>4711334036</td>\n",
              "      <td>28</td>\n",
              "      <td>기타고사목</td>\n",
              "      <td>미감염</td>\n",
              "      <td>2017-01-01</td>\n",
              "      <td>완료</td>\n",
              "    </tr>\n",
              "    <tr>\n",
              "      <th>2</th>\n",
              "      <td>1400457</td>\n",
              "      <td>390892</td>\n",
              "      <td>390344</td>\n",
              "      <td>마마45798956</td>\n",
              "      <td>4711334036</td>\n",
              "      <td>34</td>\n",
              "      <td>피해고사목</td>\n",
              "      <td>감염목</td>\n",
              "      <td>2017-01-01</td>\n",
              "      <td>완료</td>\n",
              "    </tr>\n",
              "    <tr>\n",
              "      <th>3</th>\n",
              "      <td>1400457</td>\n",
              "      <td>390904</td>\n",
              "      <td>390338</td>\n",
              "      <td>마마45808955</td>\n",
              "      <td>4711334036</td>\n",
              "      <td>34</td>\n",
              "      <td>피해고사목</td>\n",
              "      <td>감염목</td>\n",
              "      <td>2017-01-01</td>\n",
              "      <td>완료</td>\n",
              "    </tr>\n",
              "    <tr>\n",
              "      <th>4</th>\n",
              "      <td>1400457</td>\n",
              "      <td>389892</td>\n",
              "      <td>390918</td>\n",
              "      <td>마마44809014</td>\n",
              "      <td>4711334036</td>\n",
              "      <td>18</td>\n",
              "      <td>기타고사목</td>\n",
              "      <td>미감염</td>\n",
              "      <td>2017-01-01</td>\n",
              "      <td>완료</td>\n",
              "    </tr>\n",
              "  </tbody>\n",
              "</table>\n",
              "</div>\n",
              "    <div class=\"colab-df-buttons\">\n",
              "\n",
              "  <div class=\"colab-df-container\">\n",
              "    <button class=\"colab-df-convert\" onclick=\"convertToInteractive('df-66556479-0cee-4480-b49d-154549dc16c5')\"\n",
              "            title=\"Convert this dataframe to an interactive table.\"\n",
              "            style=\"display:none;\">\n",
              "\n",
              "  <svg xmlns=\"http://www.w3.org/2000/svg\" height=\"24px\" viewBox=\"0 -960 960 960\">\n",
              "    <path d=\"M120-120v-720h720v720H120Zm60-500h600v-160H180v160Zm220 220h160v-160H400v160Zm0 220h160v-160H400v160ZM180-400h160v-160H180v160Zm440 0h160v-160H620v160ZM180-180h160v-160H180v160Zm440 0h160v-160H620v160Z\"/>\n",
              "  </svg>\n",
              "    </button>\n",
              "\n",
              "  <style>\n",
              "    .colab-df-container {\n",
              "      display:flex;\n",
              "      gap: 12px;\n",
              "    }\n",
              "\n",
              "    .colab-df-convert {\n",
              "      background-color: #E8F0FE;\n",
              "      border: none;\n",
              "      border-radius: 50%;\n",
              "      cursor: pointer;\n",
              "      display: none;\n",
              "      fill: #1967D2;\n",
              "      height: 32px;\n",
              "      padding: 0 0 0 0;\n",
              "      width: 32px;\n",
              "    }\n",
              "\n",
              "    .colab-df-convert:hover {\n",
              "      background-color: #E2EBFA;\n",
              "      box-shadow: 0px 1px 2px rgba(60, 64, 67, 0.3), 0px 1px 3px 1px rgba(60, 64, 67, 0.15);\n",
              "      fill: #174EA6;\n",
              "    }\n",
              "\n",
              "    .colab-df-buttons div {\n",
              "      margin-bottom: 4px;\n",
              "    }\n",
              "\n",
              "    [theme=dark] .colab-df-convert {\n",
              "      background-color: #3B4455;\n",
              "      fill: #D2E3FC;\n",
              "    }\n",
              "\n",
              "    [theme=dark] .colab-df-convert:hover {\n",
              "      background-color: #434B5C;\n",
              "      box-shadow: 0px 1px 3px 1px rgba(0, 0, 0, 0.15);\n",
              "      filter: drop-shadow(0px 1px 2px rgba(0, 0, 0, 0.3));\n",
              "      fill: #FFFFFF;\n",
              "    }\n",
              "  </style>\n",
              "\n",
              "    <script>\n",
              "      const buttonEl =\n",
              "        document.querySelector('#df-66556479-0cee-4480-b49d-154549dc16c5 button.colab-df-convert');\n",
              "      buttonEl.style.display =\n",
              "        google.colab.kernel.accessAllowed ? 'block' : 'none';\n",
              "\n",
              "      async function convertToInteractive(key) {\n",
              "        const element = document.querySelector('#df-66556479-0cee-4480-b49d-154549dc16c5');\n",
              "        const dataTable =\n",
              "          await google.colab.kernel.invokeFunction('convertToInteractive',\n",
              "                                                    [key], {});\n",
              "        if (!dataTable) return;\n",
              "\n",
              "        const docLinkHtml = 'Like what you see? Visit the ' +\n",
              "          '<a target=\"_blank\" href=https://colab.research.google.com/notebooks/data_table.ipynb>data table notebook</a>'\n",
              "          + ' to learn more about interactive tables.';\n",
              "        element.innerHTML = '';\n",
              "        dataTable['output_type'] = 'display_data';\n",
              "        await google.colab.output.renderOutput(dataTable, element);\n",
              "        const docLink = document.createElement('div');\n",
              "        docLink.innerHTML = docLinkHtml;\n",
              "        element.appendChild(docLink);\n",
              "      }\n",
              "    </script>\n",
              "  </div>\n",
              "\n",
              "\n",
              "<div id=\"df-92d68095-9777-4f7b-ba69-08be7740194c\">\n",
              "  <button class=\"colab-df-quickchart\" onclick=\"quickchart('df-92d68095-9777-4f7b-ba69-08be7740194c')\"\n",
              "            title=\"Suggest charts\"\n",
              "            style=\"display:none;\">\n",
              "\n",
              "<svg xmlns=\"http://www.w3.org/2000/svg\" height=\"24px\"viewBox=\"0 0 24 24\"\n",
              "     width=\"24px\">\n",
              "    <g>\n",
              "        <path d=\"M19 3H5c-1.1 0-2 .9-2 2v14c0 1.1.9 2 2 2h14c1.1 0 2-.9 2-2V5c0-1.1-.9-2-2-2zM9 17H7v-7h2v7zm4 0h-2V7h2v10zm4 0h-2v-4h2v4z\"/>\n",
              "    </g>\n",
              "</svg>\n",
              "  </button>\n",
              "\n",
              "<style>\n",
              "  .colab-df-quickchart {\n",
              "      --bg-color: #E8F0FE;\n",
              "      --fill-color: #1967D2;\n",
              "      --hover-bg-color: #E2EBFA;\n",
              "      --hover-fill-color: #174EA6;\n",
              "      --disabled-fill-color: #AAA;\n",
              "      --disabled-bg-color: #DDD;\n",
              "  }\n",
              "\n",
              "  [theme=dark] .colab-df-quickchart {\n",
              "      --bg-color: #3B4455;\n",
              "      --fill-color: #D2E3FC;\n",
              "      --hover-bg-color: #434B5C;\n",
              "      --hover-fill-color: #FFFFFF;\n",
              "      --disabled-bg-color: #3B4455;\n",
              "      --disabled-fill-color: #666;\n",
              "  }\n",
              "\n",
              "  .colab-df-quickchart {\n",
              "    background-color: var(--bg-color);\n",
              "    border: none;\n",
              "    border-radius: 50%;\n",
              "    cursor: pointer;\n",
              "    display: none;\n",
              "    fill: var(--fill-color);\n",
              "    height: 32px;\n",
              "    padding: 0;\n",
              "    width: 32px;\n",
              "  }\n",
              "\n",
              "  .colab-df-quickchart:hover {\n",
              "    background-color: var(--hover-bg-color);\n",
              "    box-shadow: 0 1px 2px rgba(60, 64, 67, 0.3), 0 1px 3px 1px rgba(60, 64, 67, 0.15);\n",
              "    fill: var(--button-hover-fill-color);\n",
              "  }\n",
              "\n",
              "  .colab-df-quickchart-complete:disabled,\n",
              "  .colab-df-quickchart-complete:disabled:hover {\n",
              "    background-color: var(--disabled-bg-color);\n",
              "    fill: var(--disabled-fill-color);\n",
              "    box-shadow: none;\n",
              "  }\n",
              "\n",
              "  .colab-df-spinner {\n",
              "    border: 2px solid var(--fill-color);\n",
              "    border-color: transparent;\n",
              "    border-bottom-color: var(--fill-color);\n",
              "    animation:\n",
              "      spin 1s steps(1) infinite;\n",
              "  }\n",
              "\n",
              "  @keyframes spin {\n",
              "    0% {\n",
              "      border-color: transparent;\n",
              "      border-bottom-color: var(--fill-color);\n",
              "      border-left-color: var(--fill-color);\n",
              "    }\n",
              "    20% {\n",
              "      border-color: transparent;\n",
              "      border-left-color: var(--fill-color);\n",
              "      border-top-color: var(--fill-color);\n",
              "    }\n",
              "    30% {\n",
              "      border-color: transparent;\n",
              "      border-left-color: var(--fill-color);\n",
              "      border-top-color: var(--fill-color);\n",
              "      border-right-color: var(--fill-color);\n",
              "    }\n",
              "    40% {\n",
              "      border-color: transparent;\n",
              "      border-right-color: var(--fill-color);\n",
              "      border-top-color: var(--fill-color);\n",
              "    }\n",
              "    60% {\n",
              "      border-color: transparent;\n",
              "      border-right-color: var(--fill-color);\n",
              "    }\n",
              "    80% {\n",
              "      border-color: transparent;\n",
              "      border-right-color: var(--fill-color);\n",
              "      border-bottom-color: var(--fill-color);\n",
              "    }\n",
              "    90% {\n",
              "      border-color: transparent;\n",
              "      border-bottom-color: var(--fill-color);\n",
              "    }\n",
              "  }\n",
              "</style>\n",
              "\n",
              "  <script>\n",
              "    async function quickchart(key) {\n",
              "      const quickchartButtonEl =\n",
              "        document.querySelector('#' + key + ' button');\n",
              "      quickchartButtonEl.disabled = true;  // To prevent multiple clicks.\n",
              "      quickchartButtonEl.classList.add('colab-df-spinner');\n",
              "      try {\n",
              "        const charts = await google.colab.kernel.invokeFunction(\n",
              "            'suggestCharts', [key], {});\n",
              "      } catch (error) {\n",
              "        console.error('Error during call to suggestCharts:', error);\n",
              "      }\n",
              "      quickchartButtonEl.classList.remove('colab-df-spinner');\n",
              "      quickchartButtonEl.classList.add('colab-df-quickchart-complete');\n",
              "    }\n",
              "    (() => {\n",
              "      let quickchartButtonEl =\n",
              "        document.querySelector('#df-92d68095-9777-4f7b-ba69-08be7740194c button');\n",
              "      quickchartButtonEl.style.display =\n",
              "        google.colab.kernel.accessAllowed ? 'block' : 'none';\n",
              "    })();\n",
              "  </script>\n",
              "</div>\n",
              "\n",
              "    </div>\n",
              "  </div>\n"
            ],
            "application/vnd.google.colaboratory.intrinsic+json": {
              "type": "dataframe",
              "variable_name": "data_2017"
            }
          },
          "metadata": {},
          "execution_count": 6
        }
      ]
    },
    {
      "cell_type": "code",
      "source": [
        "#2017년에 좀 높음\n",
        "infection_rat_2017 = data_2017['감염목구분'].value_counts(normalize=True)['감염목'] * 100\n",
        "\n",
        "print(f\"전체 중 감염된 소나무 비율: {infection_rat_2017:.2f}%\")"
      ],
      "metadata": {
        "colab": {
          "base_uri": "https://localhost:8080/"
        },
        "id": "I1sYyHlFEK5b",
        "outputId": "8f612436-8419-436f-dcdb-ec4e35ddfec1"
      },
      "execution_count": null,
      "outputs": [
        {
          "output_type": "stream",
          "name": "stdout",
          "text": [
            "전체 중 감염된 소나무 비율: 23.27%\n"
          ]
        }
      ]
    },
    {
      "cell_type": "code",
      "source": [
        "data_2018.info()"
      ],
      "metadata": {
        "colab": {
          "base_uri": "https://localhost:8080/"
        },
        "id": "Uyvj1x2Vmk3m",
        "outputId": "1143fd7d-0743-45c8-8502-84bacfa0e86a"
      },
      "execution_count": null,
      "outputs": [
        {
          "output_type": "stream",
          "name": "stdout",
          "text": [
            "<class 'pandas.core.frame.DataFrame'>\n",
            "RangeIndex: 1048575 entries, 0 to 1048574\n",
            "Data columns (total 10 columns):\n",
            " #   Column         Non-Null Count    Dtype  \n",
            "---  ------         --------------    -----  \n",
            " 0   발생관리기관코드       1048575 non-null  object \n",
            " 1   지역X좌표          1048575 non-null  int64  \n",
            " 2   지역Y좌표          1048575 non-null  int64  \n",
            " 3   국가지점번호         1048575 non-null  object \n",
            " 4   토지관리번호(PNU코드)  1048573 non-null  float64\n",
            " 5   발생경급수치         1048575 non-null  int64  \n",
            " 6   고사목구분          1048575 non-null  object \n",
            " 7   감염목구분          1048575 non-null  object \n",
            " 8   조사일자           1048575 non-null  object \n",
            " 9   방제완료여부         1048575 non-null  object \n",
            "dtypes: float64(1), int64(3), object(6)\n",
            "memory usage: 80.0+ MB\n"
          ]
        }
      ]
    },
    {
      "cell_type": "code",
      "source": [
        "# '감염목구분' 열에서 '감염' 값의 비율 계산\n",
        "infection_rat_2018 = data_2018['감염목구분'].value_counts(normalize=True)['감염목'] * 100\n",
        "\n",
        "print(f\"전체 중 감염된 소나무 비율: {infection_rat_2018:.2f}%\")"
      ],
      "metadata": {
        "colab": {
          "base_uri": "https://localhost:8080/"
        },
        "id": "UNWSRLAJENV2",
        "outputId": "7ab73752-1e9a-4749-860c-2a7eff0330a9"
      },
      "execution_count": null,
      "outputs": [
        {
          "output_type": "stream",
          "name": "stdout",
          "text": [
            "전체 중 감염된 소나무 비율: 30.47%\n"
          ]
        }
      ]
    },
    {
      "cell_type": "code",
      "source": [
        "data_2019.info()"
      ],
      "metadata": {
        "colab": {
          "base_uri": "https://localhost:8080/"
        },
        "id": "GEKuHN1fmlp5",
        "outputId": "7cbe8861-185a-4011-e317-747d97e81a70"
      },
      "execution_count": null,
      "outputs": [
        {
          "output_type": "stream",
          "name": "stdout",
          "text": [
            "<class 'pandas.core.frame.DataFrame'>\n",
            "RangeIndex: 1048575 entries, 0 to 1048574\n",
            "Data columns (total 10 columns):\n",
            " #   Column         Non-Null Count    Dtype \n",
            "---  ------         --------------    ----- \n",
            " 0   발생관리기관코드       1048575 non-null  object\n",
            " 1   지역X좌표          1048575 non-null  int64 \n",
            " 2   지역Y좌표          1048575 non-null  int64 \n",
            " 3   국가지점번호         1048575 non-null  object\n",
            " 4   토지관리번호(PNU코드)  1048575 non-null  int64 \n",
            " 5   발생경급수치         1048575 non-null  int64 \n",
            " 6   고사목구분          1048575 non-null  object\n",
            " 7   감염목구분          1048575 non-null  object\n",
            " 8   조사일자           1048575 non-null  object\n",
            " 9   방제완료여부         1048575 non-null  object\n",
            "dtypes: int64(4), object(6)\n",
            "memory usage: 80.0+ MB\n"
          ]
        }
      ]
    },
    {
      "cell_type": "code",
      "source": [
        "# '2019년도 높은 편\n",
        "infection_rat_2019 = data_2019['감염목구분'].value_counts(normalize=True)['감염목'] * 100\n",
        "\n",
        "print(f\"전체 중 감염된 소나무 비율: {infection_rat_2019:.2f}%\")"
      ],
      "metadata": {
        "colab": {
          "base_uri": "https://localhost:8080/"
        },
        "id": "bX8xnAukETOD",
        "outputId": "cd5fb1d9-c344-416b-8715-12cc9513b00b"
      },
      "execution_count": null,
      "outputs": [
        {
          "output_type": "stream",
          "name": "stdout",
          "text": [
            "전체 중 감염된 소나무 비율: 23.77%\n"
          ]
        }
      ]
    },
    {
      "cell_type": "code",
      "source": [
        "data_2020.info()"
      ],
      "metadata": {
        "colab": {
          "base_uri": "https://localhost:8080/"
        },
        "id": "Glw9Ac4jmmYe",
        "outputId": "adfe31f5-be99-4273-a14f-6feabe5da520"
      },
      "execution_count": null,
      "outputs": [
        {
          "output_type": "stream",
          "name": "stdout",
          "text": [
            "<class 'pandas.core.frame.DataFrame'>\n",
            "RangeIndex: 1048575 entries, 0 to 1048574\n",
            "Data columns (total 10 columns):\n",
            " #   Column         Non-Null Count    Dtype \n",
            "---  ------         --------------    ----- \n",
            " 0   발생관리기관코드       1048575 non-null  object\n",
            " 1   지역X좌표          1048575 non-null  int64 \n",
            " 2   지역Y좌표          1048575 non-null  int64 \n",
            " 3   국가지점번호         1048575 non-null  object\n",
            " 4   토지관리번호(PNU코드)  1048575 non-null  int64 \n",
            " 5   발생경급수치         1048575 non-null  int64 \n",
            " 6   고사목구분          1048575 non-null  object\n",
            " 7   감염목구분          1048575 non-null  object\n",
            " 8   조사일자           1048575 non-null  object\n",
            " 9   방제완료여부         1048575 non-null  object\n",
            "dtypes: int64(4), object(6)\n",
            "memory usage: 80.0+ MB\n"
          ]
        }
      ]
    },
    {
      "cell_type": "code",
      "source": [
        "# 낮은 편은 아님\n",
        "infection_rat_2020 = data_2020['감염목구분'].value_counts(normalize=True)['감염목'] * 100\n",
        "\n",
        "print(f\"전체 중 감염된 소나무 비율: {infection_rat_2020:.2f}%\")"
      ],
      "metadata": {
        "colab": {
          "base_uri": "https://localhost:8080/"
        },
        "id": "ErnEo1o6EYBQ",
        "outputId": "a448101a-343d-40c5-c50d-80f3fa6bc857"
      },
      "execution_count": null,
      "outputs": [
        {
          "output_type": "stream",
          "name": "stdout",
          "text": [
            "전체 중 감염된 소나무 비율: 27.04%\n"
          ]
        }
      ]
    },
    {
      "cell_type": "code",
      "source": [
        "data_2021.info()"
      ],
      "metadata": {
        "colab": {
          "base_uri": "https://localhost:8080/"
        },
        "id": "2EFEIuEtmnHJ",
        "outputId": "158ee8ee-1731-46ff-cdee-f96da4459e21"
      },
      "execution_count": null,
      "outputs": [
        {
          "output_type": "stream",
          "name": "stdout",
          "text": [
            "<class 'pandas.core.frame.DataFrame'>\n",
            "RangeIndex: 914593 entries, 0 to 914592\n",
            "Data columns (total 10 columns):\n",
            " #   Column         Non-Null Count   Dtype \n",
            "---  ------         --------------   ----- \n",
            " 0   발생관리기관코드       914593 non-null  object\n",
            " 1   지역X좌표          914593 non-null  int64 \n",
            " 2   지역Y좌표          914593 non-null  int64 \n",
            " 3   국가지점번호         914593 non-null  object\n",
            " 4   토지관리번호(PNU코드)  914593 non-null  int64 \n",
            " 5   발생경급수치         914593 non-null  int64 \n",
            " 6   고사목구분          914593 non-null  object\n",
            " 7   감염목구분          914593 non-null  object\n",
            " 8   조사일자           914593 non-null  object\n",
            " 9   방제완료여부         914593 non-null  object\n",
            "dtypes: int64(4), object(6)\n",
            "memory usage: 69.8+ MB\n"
          ]
        }
      ]
    },
    {
      "cell_type": "code",
      "source": [
        "infection_rat_2021 = data_2021['감염목구분'].value_counts(normalize=True)['감염목'] * 100\n",
        "\n",
        "print(f\"전체 중 감염된 소나무 비율: {infection_rat_2021:.2f}%\")"
      ],
      "metadata": {
        "colab": {
          "base_uri": "https://localhost:8080/"
        },
        "id": "2qZHrnvqEev4",
        "outputId": "39759337-6fe0-48b6-d04c-1611e82f9f66"
      },
      "execution_count": null,
      "outputs": [
        {
          "output_type": "stream",
          "name": "stdout",
          "text": [
            "전체 중 감염된 소나무 비율: 32.65%\n"
          ]
        }
      ]
    },
    {
      "cell_type": "code",
      "source": [
        "data_2022.info()"
      ],
      "metadata": {
        "colab": {
          "base_uri": "https://localhost:8080/"
        },
        "id": "9gxKkdekmoYp",
        "outputId": "4513758a-f994-4d1a-a063-f3dce9b54f10"
      },
      "execution_count": null,
      "outputs": [
        {
          "output_type": "stream",
          "name": "stdout",
          "text": [
            "<class 'pandas.core.frame.DataFrame'>\n",
            "RangeIndex: 927709 entries, 0 to 927708\n",
            "Data columns (total 10 columns):\n",
            " #   Column         Non-Null Count   Dtype  \n",
            "---  ------         --------------   -----  \n",
            " 0   발생관리기관코드       927709 non-null  object \n",
            " 1   지역X좌표          927602 non-null  float64\n",
            " 2   지역Y좌표          927602 non-null  float64\n",
            " 3   국가지점번호         927602 non-null  object \n",
            " 4   토지관리번호(PNU코드)  927602 non-null  float64\n",
            " 5   발생경급수치         927709 non-null  int64  \n",
            " 6   고사목구분          927709 non-null  object \n",
            " 7   감염목구분          927709 non-null  object \n",
            " 8   조사일자           927709 non-null  object \n",
            " 9   방제완료여부         927709 non-null  object \n",
            "dtypes: float64(3), int64(1), object(6)\n",
            "memory usage: 70.8+ MB\n"
          ]
        }
      ]
    },
    {
      "cell_type": "code",
      "source": [
        "#굉장히 낮음\n",
        "infection_rat_2022 = data_2022['감염목구분'].value_counts(normalize=True)['감염목'] * 100\n",
        "\n",
        "print(f\"전체 중 감염된 소나무 비율: {infection_rat_2022:.2f}%\")"
      ],
      "metadata": {
        "id": "9w9IW70qEiDY",
        "outputId": "ac1a738c-041d-4ac9-da7e-c0ed523dde8a",
        "colab": {
          "base_uri": "https://localhost:8080/"
        }
      },
      "execution_count": null,
      "outputs": [
        {
          "output_type": "stream",
          "name": "stdout",
          "text": [
            "전체 중 감염된 소나무 비율: 40.68%\n"
          ]
        }
      ]
    },
    {
      "cell_type": "code",
      "source": [
        "data_2023.info()"
      ],
      "metadata": {
        "colab": {
          "base_uri": "https://localhost:8080/"
        },
        "id": "HE3AzGsYmpmS",
        "outputId": "b16128b3-6a8a-48cd-c938-b9b90dbd0599"
      },
      "execution_count": null,
      "outputs": [
        {
          "output_type": "stream",
          "name": "stdout",
          "text": [
            "<class 'pandas.core.frame.DataFrame'>\n",
            "RangeIndex: 702023 entries, 0 to 702022\n",
            "Data columns (total 10 columns):\n",
            " #   Column         Non-Null Count   Dtype \n",
            "---  ------         --------------   ----- \n",
            " 0   발생관리기관코드       702023 non-null  object\n",
            " 1   지역X좌표          702023 non-null  int64 \n",
            " 2   지역Y좌표          702023 non-null  int64 \n",
            " 3   국가지점번호         702023 non-null  object\n",
            " 4   토지관리번호(PNU코드0  702023 non-null  int64 \n",
            " 5   발생경급수치         702023 non-null  int64 \n",
            " 6   고사목구분          702023 non-null  object\n",
            " 7   감염목구분          702023 non-null  object\n",
            " 8   조사일자           702023 non-null  object\n",
            " 9   방제완료여부         702023 non-null  object\n",
            "dtypes: int64(4), object(6)\n",
            "memory usage: 53.6+ MB\n"
          ]
        }
      ]
    },
    {
      "cell_type": "code",
      "source": [
        "infection_rat_2023 = data_2022['감염목구분'].value_counts(normalize=True)['감염목'] * 100\n",
        "\n",
        "print(f\"전체 중 감염된 소나무 비율: {infection_rat_2023:.2f}%\")"
      ],
      "metadata": {
        "id": "C0_3p73dElS8",
        "outputId": "ab09c3dc-e54b-423c-b9d5-082747b13e34",
        "colab": {
          "base_uri": "https://localhost:8080/"
        }
      },
      "execution_count": null,
      "outputs": [
        {
          "output_type": "stream",
          "name": "stdout",
          "text": [
            "전체 중 감염된 소나무 비율: 40.68%\n"
          ]
        }
      ]
    },
    {
      "cell_type": "code",
      "source": [],
      "metadata": {
        "id": "BfEoTheF8yPj"
      },
      "execution_count": null,
      "outputs": []
    },
    {
      "cell_type": "code",
      "source": [
        "!sudo apt-get install -y fonts-nanum\n",
        "!sudo fc-cache -fv\n",
        "!rm ~/.cache/matplotlib -rf"
      ],
      "metadata": {
        "colab": {
          "base_uri": "https://localhost:8080/"
        },
        "id": "E4Rgu4pH4VeA",
        "outputId": "4cc2763a-d197-42de-b4bf-df99a6b3db6e"
      },
      "execution_count": null,
      "outputs": [
        {
          "output_type": "stream",
          "name": "stdout",
          "text": [
            "Reading package lists... Done\n",
            "Building dependency tree... Done\n",
            "Reading state information... Done\n",
            "fonts-nanum is already the newest version (20200506-1).\n",
            "0 upgraded, 0 newly installed, 0 to remove and 49 not upgraded.\n",
            "/usr/share/fonts: caching, new cache contents: 0 fonts, 1 dirs\n",
            "/usr/share/fonts/truetype: caching, new cache contents: 0 fonts, 3 dirs\n",
            "/usr/share/fonts/truetype/humor-sans: caching, new cache contents: 1 fonts, 0 dirs\n",
            "/usr/share/fonts/truetype/liberation: caching, new cache contents: 16 fonts, 0 dirs\n",
            "/usr/share/fonts/truetype/nanum: caching, new cache contents: 12 fonts, 0 dirs\n",
            "/usr/local/share/fonts: caching, new cache contents: 0 fonts, 0 dirs\n",
            "/root/.local/share/fonts: skipping, no such directory\n",
            "/root/.fonts: skipping, no such directory\n",
            "/usr/share/fonts/truetype: skipping, looped directory detected\n",
            "/usr/share/fonts/truetype/humor-sans: skipping, looped directory detected\n",
            "/usr/share/fonts/truetype/liberation: skipping, looped directory detected\n",
            "/usr/share/fonts/truetype/nanum: skipping, looped directory detected\n",
            "/var/cache/fontconfig: cleaning cache directory\n",
            "/root/.cache/fontconfig: not cleaning non-existent cache directory\n",
            "/root/.fontconfig: not cleaning non-existent cache directory\n",
            "fc-cache: succeeded\n"
          ]
        }
      ]
    },
    {
      "cell_type": "code",
      "source": [
        "import matplotlib.pyplot as plt\n",
        "\n",
        "# Y축 범위 설정 (데이터 중심으로 조정)\n",
        "y_min = min(infection_ratios) - 0.5\n",
        "y_max = max(infection_ratios) + 0.5\n",
        "\n",
        "plt.figure(figsize=(10, 6))\n",
        "plt.plot(\n",
        "    years,\n",
        "    infection_ratios,\n",
        "    marker='o',\n",
        "    linestyle='-',\n",
        "    color='b',\n",
        "    label='감염 비율',\n",
        "    markersize=8,  # 마커 크기 키움\n",
        ")\n",
        "\n",
        "# 그래프 제목과 라벨 설정\n",
        "plt.title('2016년부터 2023년까지의 소나무재선충병 감염 비율 변화 추이')\n",
        "plt.xlabel('년도')\n",
        "plt.ylabel('감염 비율 (%)')\n",
        "\n",
        "# Y축 범위를 조정\n",
        "plt.ylim(y_min, y_max)\n",
        "\n",
        "# 그래프 표시\n",
        "plt.xticks(years)\n",
        "plt.grid(True)\n",
        "plt.legend()\n",
        "\n",
        "# 그래프 출력\n",
        "plt.show()\n"
      ],
      "metadata": {
        "id": "RN_1UkH9mqwr",
        "colab": {
          "base_uri": "https://localhost:8080/",
          "height": 563
        },
        "outputId": "3b7f5a59-dbdf-41ac-ccc0-9c83fbbac8f0"
      },
      "execution_count": null,
      "outputs": [
        {
          "output_type": "display_data",
          "data": {
            "text/plain": [
              "<Figure size 1000x600 with 1 Axes>"
            ],
            "image/png": "[encoded data removed]"
          },
          "metadata": {}
        }
      ]
    }
  ]
}